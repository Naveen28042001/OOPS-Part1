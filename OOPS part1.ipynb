{
 "cells": [
  {
   "cell_type": "code",
   "execution_count": null,
   "id": "c650a49b-3eda-4348-a623-e65e16e4d815",
   "metadata": {},
   "outputs": [],
   "source": [
    "Q1. Explain Class and Object with respect to Object-Oriented Programming. Give a suitable example."
   ]
  },
  {
   "cell_type": "code",
   "execution_count": null,
   "id": "d00e4624-6dbf-473c-a114-c77a5e111582",
   "metadata": {},
   "outputs": [],
   "source": [
    "class - A Class is a blueprint or serves as a template from which individual objects are created.\n",
    "Object - An object is a instance of class which consists of methods and properties.\n",
    "Example :\n",
    "    Car is an class\n",
    "    Toyota,Honda,Hyundai,Kia are the objects"
   ]
  },
  {
   "cell_type": "code",
   "execution_count": 44,
   "id": "b857e12a-626c-4e11-9da9-28c191a882e4",
   "metadata": {},
   "outputs": [],
   "source": [
    "class  car():\n",
    "    pass"
   ]
  },
  {
   "cell_type": "code",
   "execution_count": 2,
   "id": "9139e81d-b2a4-4fee-a8cb-95c3e8be1ad8",
   "metadata": {},
   "outputs": [],
   "source": [
    "toyota = car()"
   ]
  },
  {
   "cell_type": "code",
   "execution_count": 4,
   "id": "1e4d31ac-13d6-48fc-9683-381b4b3e675f",
   "metadata": {},
   "outputs": [
    {
     "data": {
      "text/plain": [
       "__main__.car"
      ]
     },
     "execution_count": 4,
     "metadata": {},
     "output_type": "execute_result"
    }
   ],
   "source": [
    "type(toyota)"
   ]
  },
  {
   "cell_type": "code",
   "execution_count": 5,
   "id": "ddd76973-ac5a-40b3-8976-de32ecfb5847",
   "metadata": {},
   "outputs": [
    {
     "data": {
      "text/plain": [
       "type"
      ]
     },
     "execution_count": 5,
     "metadata": {},
     "output_type": "execute_result"
    }
   ],
   "source": [
    "type(car)"
   ]
  },
  {
   "cell_type": "code",
   "execution_count": null,
   "id": "f51d1f3a-0c1a-4e7e-ab9e-de610993b945",
   "metadata": {},
   "outputs": [],
   "source": [
    "Q2. Name the four pillars of OOPs.\n",
    "\n",
    "1.Abstraction\n",
    "2.Encapsulation\n",
    "3.Inheritance\n",
    "4.Polymorphism"
   ]
  },
  {
   "cell_type": "code",
   "execution_count": null,
   "id": "c75027d4-37f9-4925-937c-94b435543e9d",
   "metadata": {},
   "outputs": [],
   "source": [
    "Q3. Explain why the __init__() function is used. Give a suitable example."
   ]
  },
  {
   "cell_type": "code",
   "execution_count": null,
   "id": "6826a73f-2441-4fae-a55c-46c80e738b57",
   "metadata": {},
   "outputs": [],
   "source": [
    "__init__ - Init is a constructor, tries to take a data while creating an object and pass the data to the class."
   ]
  },
  {
   "cell_type": "code",
   "execution_count": 17,
   "id": "f9356972-aefb-472a-8118-663f535f16aa",
   "metadata": {},
   "outputs": [],
   "source": [
    "class pwskills:\n",
    "    def __init__(self,name,mail_id,phone_number):\n",
    "        self.name = name\n",
    "        self.mail_id = mail_id\n",
    "        self.phone_number = phone_number\n",
    "    def student_details(self):\n",
    "        return self.name,self.mail_id,self.phone_number\n",
    "        "
   ]
  },
  {
   "cell_type": "code",
   "execution_count": 18,
   "id": "c9bc87a2-8b95-4858-a21c-2e3f012b47d7",
   "metadata": {},
   "outputs": [],
   "source": [
    "ram = pwskills(\"ram\",\"ram@gmail.com\",6354689291)"
   ]
  },
  {
   "cell_type": "code",
   "execution_count": 19,
   "id": "94b26428-0d19-4d98-953a-eb24d7c0e64e",
   "metadata": {},
   "outputs": [
    {
     "data": {
      "text/plain": [
       "('ram', 'ram@gmail.com', 6354689291)"
      ]
     },
     "execution_count": 19,
     "metadata": {},
     "output_type": "execute_result"
    }
   ],
   "source": [
    "ram.student_details()"
   ]
  },
  {
   "cell_type": "code",
   "execution_count": 20,
   "id": "e1f844bc-5c26-48f8-a5cf-b4167039d85c",
   "metadata": {},
   "outputs": [
    {
     "data": {
      "text/plain": [
       "'ram'"
      ]
     },
     "execution_count": 20,
     "metadata": {},
     "output_type": "execute_result"
    }
   ],
   "source": [
    "ram.name"
   ]
  },
  {
   "cell_type": "code",
   "execution_count": 21,
   "id": "1deeec20-0b31-4f98-b90d-d4be984335e8",
   "metadata": {},
   "outputs": [
    {
     "data": {
      "text/plain": [
       "'ram@gmail.com'"
      ]
     },
     "execution_count": 21,
     "metadata": {},
     "output_type": "execute_result"
    }
   ],
   "source": [
    "ram.mail_id"
   ]
  },
  {
   "cell_type": "code",
   "execution_count": 22,
   "id": "e902afc1-5fa6-487b-ad1b-13794a565165",
   "metadata": {},
   "outputs": [
    {
     "data": {
      "text/plain": [
       "6354689291"
      ]
     },
     "execution_count": 22,
     "metadata": {},
     "output_type": "execute_result"
    }
   ],
   "source": [
    "ram.phone_number"
   ]
  },
  {
   "cell_type": "code",
   "execution_count": 24,
   "id": "d72d6d17-4a72-4ad3-99a2-d6c0f1f7c142",
   "metadata": {},
   "outputs": [],
   "source": [
    "ram.name = \"sam\""
   ]
  },
  {
   "cell_type": "code",
   "execution_count": 25,
   "id": "b382a32b-3f81-43ef-846d-4ea72e8ecd10",
   "metadata": {},
   "outputs": [
    {
     "data": {
      "text/plain": [
       "('sam', 'ram@gmail.com', 6354689291)"
      ]
     },
     "execution_count": 25,
     "metadata": {},
     "output_type": "execute_result"
    }
   ],
   "source": [
    "ram.student_details()"
   ]
  },
  {
   "cell_type": "code",
   "execution_count": 26,
   "id": "7f4a9243-10d7-4554-b0dc-02cb1184a265",
   "metadata": {},
   "outputs": [],
   "source": [
    "Raja = pwskills(\"Raja\",\"raja@gmail.com\",9806436245)"
   ]
  },
  {
   "cell_type": "code",
   "execution_count": 27,
   "id": "7cbacae0-f21b-4da5-b4e2-4af4d1d17501",
   "metadata": {},
   "outputs": [
    {
     "data": {
      "text/plain": [
       "('Raja', 'raja@gmail.com', 9806436245)"
      ]
     },
     "execution_count": 27,
     "metadata": {},
     "output_type": "execute_result"
    }
   ],
   "source": [
    "Raja.student_details()"
   ]
  },
  {
   "cell_type": "code",
   "execution_count": 28,
   "id": "2d72e42f-aff2-48f3-9b40-3cc02fe0dfce",
   "metadata": {},
   "outputs": [
    {
     "data": {
      "text/plain": [
       "'Raja'"
      ]
     },
     "execution_count": 28,
     "metadata": {},
     "output_type": "execute_result"
    }
   ],
   "source": [
    "Raja.name"
   ]
  },
  {
   "cell_type": "code",
   "execution_count": 29,
   "id": "53d97665-908f-4b33-8d5c-eb24a2dd8b62",
   "metadata": {},
   "outputs": [
    {
     "data": {
      "text/plain": [
       "9806436245"
      ]
     },
     "execution_count": 29,
     "metadata": {},
     "output_type": "execute_result"
    }
   ],
   "source": [
    "Raja.phone_number"
   ]
  },
  {
   "cell_type": "code",
   "execution_count": null,
   "id": "6f7acb23-d132-4775-b8a8-1bb59039bcaf",
   "metadata": {},
   "outputs": [],
   "source": [
    "Q4. Why self is used in OOPs?\n",
    "\n",
    "self - self is reference word or pointer and it is not a keyword.\n",
    "\n",
    "      The self variable is used to represent the instance of the class which is often used in object-oriented programming. It works as a reference to the object. Python uses the self parameter to refer to instance attributes and methods of the class"
   ]
  },
  {
   "cell_type": "code",
   "execution_count": null,
   "id": "2899993e-626c-490e-a557-6648d6b8677f",
   "metadata": {},
   "outputs": [],
   "source": [
    "Q5. What is inheritance? Give an example for each type of inheritance."
   ]
  },
  {
   "cell_type": "code",
   "execution_count": null,
   "id": "8b025be5-9acc-4e6b-a826-f5f585076f54",
   "metadata": {},
   "outputs": [],
   "source": [
    "Inheritance - Inheritance is a process in which one object can acquire all the properties and behaviours of its parent objects automatically.\n",
    "In other words, inheritance is a process in which child class can inherit all the properties and behaviours of parent class."
   ]
  },
  {
   "cell_type": "code",
   "execution_count": 30,
   "id": "82e4c7ff-699e-4b21-af9a-c6964f6ae557",
   "metadata": {},
   "outputs": [],
   "source": [
    "class parent:\n",
    "    def test_parent(self):\n",
    "        print(\"This is my parent class\")\n",
    "class child(parent):\n",
    "    pass\n"
   ]
  },
  {
   "cell_type": "code",
   "execution_count": 31,
   "id": "112003ee-19b9-47d5-99f7-d6c499a7b871",
   "metadata": {},
   "outputs": [],
   "source": [
    "child_obj = child()"
   ]
  },
  {
   "cell_type": "code",
   "execution_count": 32,
   "id": "ba0413f8-952b-4ee3-8912-42e6c7edad3d",
   "metadata": {},
   "outputs": [
    {
     "name": "stdout",
     "output_type": "stream",
     "text": [
      "This is my parent class\n"
     ]
    }
   ],
   "source": [
    "child_obj.test_parent()"
   ]
  },
  {
   "cell_type": "markdown",
   "id": "32f19358-7a89-40eb-a56e-4b898f56cb26",
   "metadata": {},
   "source": [
    "## Types of inheritance"
   ]
  },
  {
   "cell_type": "markdown",
   "id": "c048dc2a-e09b-42fe-9a16-4541d869997d",
   "metadata": {},
   "source": [
    "## 1.Multiple inheritance\n",
    "   ### Multiple inheritance is a process in which one child class inherits the properties of more than one parent class"
   ]
  },
  {
   "cell_type": "code",
   "execution_count": 35,
   "id": "33932bfa-04e0-4fb0-9c4e-f467b2c7163b",
   "metadata": {},
   "outputs": [],
   "source": [
    "class class1:\n",
    "    def test_class1(self):\n",
    "        print(\"This is my class1\")\n",
    "class class2():\n",
    "    def test_class2(self):\n",
    "        print(\"This is my class2\")\n",
    "class class3(class1,class2):\n",
    "    def test_class3(self):\n",
    "        print(\"This is my class3\")"
   ]
  },
  {
   "cell_type": "code",
   "execution_count": 51,
   "id": "80383043-3ef6-47bd-b756-3e479acc5b39",
   "metadata": {},
   "outputs": [],
   "source": [
    "class3_obj = class3()"
   ]
  },
  {
   "cell_type": "code",
   "execution_count": 52,
   "id": "1b27a5fa-e0aa-4068-96be-ca453134f2a4",
   "metadata": {},
   "outputs": [
    {
     "name": "stdout",
     "output_type": "stream",
     "text": [
      "This is my class3\n"
     ]
    }
   ],
   "source": [
    "class3_obj.test_class3()"
   ]
  },
  {
   "cell_type": "code",
   "execution_count": 53,
   "id": "c7724350-b206-4f56-ac29-5e78dc02c05d",
   "metadata": {},
   "outputs": [
    {
     "name": "stdout",
     "output_type": "stream",
     "text": [
      "This is my class2\n"
     ]
    }
   ],
   "source": [
    "class3_obj.test_class2()"
   ]
  },
  {
   "cell_type": "code",
   "execution_count": 54,
   "id": "f98c931d-0061-447b-9351-aa22b56cfd5b",
   "metadata": {},
   "outputs": [
    {
     "name": "stdout",
     "output_type": "stream",
     "text": [
      "This is my class1\n"
     ]
    }
   ],
   "source": [
    "class3_obj.test_class1()"
   ]
  },
  {
   "cell_type": "markdown",
   "id": "88930a34-92ea-40a2-bc76-1d7870c3af71",
   "metadata": {},
   "source": [
    "## 2.Multilevel inheritance\n",
    "### Multilevel inheritance is a inheritance in which the child class inherits the properties of parent class level by level "
   ]
  },
  {
   "cell_type": "code",
   "execution_count": 45,
   "id": "798ba6d2-17fb-4056-90ef-f98b27a193e1",
   "metadata": {},
   "outputs": [],
   "source": [
    "class class1:\n",
    "    def test_class1(self):\n",
    "        print(\"This is my class1\")\n",
    "class class2(class1):\n",
    "    def test_class2(self):\n",
    "        print(\"This is my class2\")\n",
    "class class3(class2):\n",
    "    def test_class3(self):\n",
    "        print(\"This is my class3\")"
   ]
  },
  {
   "cell_type": "code",
   "execution_count": 46,
   "id": "475e72e9-de4a-43c4-957c-e76d31e66e9a",
   "metadata": {},
   "outputs": [],
   "source": [
    "class3_obj = class3()"
   ]
  },
  {
   "cell_type": "code",
   "execution_count": 47,
   "id": "2455cb91-7bbe-4e89-a246-5858b373c62e",
   "metadata": {},
   "outputs": [
    {
     "name": "stdout",
     "output_type": "stream",
     "text": [
      "This is my class3\n"
     ]
    }
   ],
   "source": [
    "class3_obj.test_class3()"
   ]
  },
  {
   "cell_type": "code",
   "execution_count": 48,
   "id": "a7100bb2-c519-40d5-bb04-f88124b2373c",
   "metadata": {},
   "outputs": [
    {
     "name": "stdout",
     "output_type": "stream",
     "text": [
      "This is my class2\n"
     ]
    }
   ],
   "source": [
    "class3_obj.test_class2()"
   ]
  },
  {
   "cell_type": "code",
   "execution_count": 49,
   "id": "23490298-39e1-41d5-a844-9e43aca2ff64",
   "metadata": {},
   "outputs": [
    {
     "name": "stdout",
     "output_type": "stream",
     "text": [
      "This is my class1\n"
     ]
    }
   ],
   "source": [
    "class3_obj.test_class1()"
   ]
  },
  {
   "cell_type": "code",
   "execution_count": null,
   "id": "df91bda8-300b-4456-9521-7d9c92d54982",
   "metadata": {},
   "outputs": [],
   "source": []
  }
 ],
 "metadata": {
  "kernelspec": {
   "display_name": "Python 3 (ipykernel)",
   "language": "python",
   "name": "python3"
  },
  "language_info": {
   "codemirror_mode": {
    "name": "ipython",
    "version": 3
   },
   "file_extension": ".py",
   "mimetype": "text/x-python",
   "name": "python",
   "nbconvert_exporter": "python",
   "pygments_lexer": "ipython3",
   "version": "3.10.8"
  }
 },
 "nbformat": 4,
 "nbformat_minor": 5
}
